{
 "cells": [
  {
   "cell_type": "markdown",
   "id": "53831595-a748-42fe-b6c7-b2582312a2be",
   "metadata": {},
   "source": [
    "<img align=\"left\" src=\"Python-logo.png\" width=120 style=\"padding: 20px\">\n",
    "\n",
    "# Minicurso Python\n",
    "\n",
    "24/10 e 25/10\n",
    "\n",
    "Andressa Wille (andressaw2@gmail.com)"
   ]
  },
  {
   "cell_type": "markdown",
   "id": "934ab6e2-c571-4bbf-b4a7-e3b5af15e813",
   "metadata": {},
   "source": [
    "## Parte 1 - Introdução ao Python e Numpy"
   ]
  },
  {
   "cell_type": "markdown",
   "id": "40acffe6-caf1-471a-8e98-d7129a12c2de",
   "metadata": {},
   "source": [
    "## 1. Descobrindo Python e Jupyter Notebooks"
   ]
  },
  {
   "cell_type": "markdown",
   "id": "7bb23505-425a-4596-99dd-28e270ff70be",
   "metadata": {},
   "source": [
    "Python é uma das linguagens de programação mais populares atualmente por ser mais simples e intuitiva que outras linguagens. É muito importante nas áreas de ciência, matemática e inteligência artificial."
   ]
  },
  {
   "cell_type": "markdown",
   "id": "a8ce9944-66cf-45c8-9b5e-143cb834dd4f",
   "metadata": {},
   "source": [
    "Visite o site oficial: https://www.python.org/"
   ]
  },
  {
   "cell_type": "markdown",
   "id": "2bcd2387-214f-4bd4-bbbc-f3ba11967c47",
   "metadata": {},
   "source": [
    "Já o Jupyter Notebook é um tipo de arquivo que contém vários tipos de células, de código, texto e outputs, que facilitam o entendimento do que você está programando. Pode ser executado no Jupyter Lab (ou no Jupyter Notebook, uma versão mais antiga)."
   ]
  },
  {
   "cell_type": "markdown",
   "id": "7e9c81ca-3901-45d8-8793-6107aa32dcd6",
   "metadata": {},
   "source": [
    "Visite o site oficial: https://jupyter.org/try"
   ]
  },
  {
   "cell_type": "markdown",
   "id": "452db193-0570-404c-a335-4442cda92ed5",
   "metadata": {},
   "source": [
    "Os códigos em Python podem ser escritos em um arquivo simples do bloco de notas e serem executados no terminal. Basta salvar o arquivo com a extensão .py e executar no terminal:"
   ]
  },
  {
   "cell_type": "markdown",
   "id": "5e704b7c-0c08-4193-bf49-348430c3c9bd",
   "metadata": {},
   "source": [
    "`python arquivo.py`"
   ]
  },
  {
   "cell_type": "markdown",
   "id": "03baef3f-155d-49a3-83a0-7f7a3aaaf7ad",
   "metadata": {},
   "source": [
    "Mas nesse minicurso, vamos utilizar o Jupyter Lab. A instalação pode ser feita com o `pip`. Mais detalhes de instalação e pré requisitos estão no arquivo primeiros-passos.pdf."
   ]
  },
  {
   "cell_type": "markdown",
   "id": "84d7134a-6f95-4c30-bcda-45877b7f16d8",
   "metadata": {},
   "source": [
    "`pip install jupyterlab`"
   ]
  },
  {
   "cell_type": "markdown",
   "id": "5362b8b8-737c-49c8-b718-aef828a97305",
   "metadata": {},
   "source": [
    "Depois de instalado, é só abrir com o comando:"
   ]
  },
  {
   "cell_type": "markdown",
   "id": "528d2d74-0994-4c3f-89e2-8e0093553ca2",
   "metadata": {},
   "source": [
    "`jupyter lab`"
   ]
  },
  {
   "cell_type": "markdown",
   "id": "c02f0850-a6c0-476f-a3fc-6483cab27244",
   "metadata": {},
   "source": [
    "### Células do Jupyter Notebook"
   ]
  },
  {
   "cell_type": "markdown",
   "id": "7b594b60-5f67-4244-8e41-e9b81f86cc04",
   "metadata": {},
   "source": [
    "Existem células de código (code), texto formatado (markdown) e texto puro (raw) no Jupyter Notebook. Para criar uma nova célula, clique em **+**"
   ]
  },
  {
   "cell_type": "markdown",
   "id": "5557a097-b5f2-4dcf-83fb-afdb6be695ab",
   "metadata": {},
   "source": [
    "#### Célula Markdown"
   ]
  },
  {
   "cell_type": "markdown",
   "id": "652fc871-b1ac-44d5-989f-4173eded4d1b",
   "metadata": {},
   "source": [
    "As células markdown são boas para escrever textos descritivos com formatação de fontes maiores ou menores, negrito, itálico, colorida, com imagens, tabelas e equações (LaTeX)."
   ]
  },
  {
   "cell_type": "markdown",
   "id": "24c630db-83ea-4892-85b3-922b8165de29",
   "metadata": {},
   "source": [
    "Dê um clique duplo para ver como a célula foi escrita (e editá-la).\n",
    "\n",
    "Clique em ► (ou aperte Ctrl+Enter) para rodar a célula."
   ]
  },
  {
   "cell_type": "markdown",
   "id": "3725828d-4142-4322-b4c9-0d034252c5df",
   "metadata": {},
   "source": [
    "Exemplos:"
   ]
  },
  {
   "cell_type": "markdown",
   "id": "fe37dff1-4769-42b5-8c60-00bd59a16062",
   "metadata": {},
   "source": [
    "Estilos de texto:\n",
    "\n",
    "# Título 1\n",
    "## Título 2\n",
    "### Título 3\n",
    "#### Título 4\n",
    "##### Título 5\n",
    "###### Título 6"
   ]
  },
  {
   "cell_type": "markdown",
   "id": "606ae569-0665-483f-b928-65a296e2cec3",
   "metadata": {},
   "source": [
    " "
   ]
  },
  {
   "cell_type": "markdown",
   "id": "89a9df2b-2c9a-4fd6-b305-fedbcdcd8042",
   "metadata": {},
   "source": [
    "\n",
    "**texto em negrito**\n",
    "\n",
    "_texto em itálico_\n",
    "\n",
    "~~texto riscado~~\n"
   ]
  },
  {
   "cell_type": "markdown",
   "id": "95fdc048-88d9-47c1-95cf-b209ebb1593e",
   "metadata": {},
   "source": [
    "`texto estilo comando` "
   ]
  },
  {
   "cell_type": "markdown",
   "id": "8a7424cf-cda6-4bc8-8ee3-34457ad81d62",
   "metadata": {},
   "source": [
    "<font color='red'>Texto vermelho</font>\n",
    "\n",
    "<font color='yellow'>Texto amarelo</font>"
   ]
  },
  {
   "cell_type": "markdown",
   "id": "41632b8e-b065-44ea-8bc5-89961c4eadfe",
   "metadata": {},
   "source": [
    "> **Agora é sua vez!**\n",
    "> \n",
    "> Faça uma célula com um texto em rosa."
   ]
  },
  {
   "cell_type": "code",
   "execution_count": null,
   "id": "7bdb3dfd-a4d7-4457-b101-81ef05069ede",
   "metadata": {},
   "outputs": [],
   "source": []
  },
  {
   "cell_type": "markdown",
   "id": "50b17cea-4767-4aee-9cb2-b923e52d1adc",
   "metadata": {},
   "source": [
    "Links:\n",
    "\n",
    "[Mais sobre markdown](https://medium.com/analytics-vidhya/the-ultimate-markdown-guide-for-jupyter-notebook-d5e5abf728fd)"
   ]
  },
  {
   "cell_type": "markdown",
   "id": "f5b68044-6a9d-4074-950e-8902a283bfef",
   "metadata": {},
   "source": [
    " "
   ]
  },
  {
   "cell_type": "markdown",
   "id": "452af77e-7fdd-41f3-84ff-0bb0d0e07215",
   "metadata": {},
   "source": [
    "Quotes:\n",
    "> Algum texto importante\n"
   ]
  },
  {
   "cell_type": "markdown",
   "id": "404eb95c-8b13-41a8-b6b0-b8992f7d6f14",
   "metadata": {},
   "source": [
    " "
   ]
  },
  {
   "cell_type": "markdown",
   "id": "f9e25ffe-71e8-4cd4-9ab2-ff0e260d173e",
   "metadata": {},
   "source": [
    "Lista:\n",
    "- item\n",
    "- item\n",
    "- item\n",
    "\n",
    "ou\n",
    "\n",
    "- [x] item feito\n",
    "- [ ] item não feito\n",
    "- [ ] item não feito\n"
   ]
  },
  {
   "cell_type": "markdown",
   "id": "911b2374-85e5-42fa-94ec-c45773e56664",
   "metadata": {},
   "source": [
    " "
   ]
  },
  {
   "cell_type": "markdown",
   "id": "6bda4c39-89a1-4372-ad6b-8e9993e5c486",
   "metadata": {},
   "source": [
    "Equações (centralizada ou não):\n",
    "\n",
    "$e^{i\\pi} + 1 = 0$\n",
    "\n",
    "$$E = mc^2$$"
   ]
  },
  {
   "cell_type": "markdown",
   "id": "8cac7850-ce80-447b-beec-465160920586",
   "metadata": {},
   "source": [
    "> **Agora é sua vez!**\n",
    "> \n",
    "> Faça uma célula com uma equação."
   ]
  },
  {
   "cell_type": "code",
   "execution_count": null,
   "id": "68d936a9-a77a-48bb-a20a-9cf2b7d9cb1b",
   "metadata": {},
   "outputs": [],
   "source": []
  },
  {
   "cell_type": "markdown",
   "id": "cebae8d8-0e64-473c-8c3f-7dba30cca49c",
   "metadata": {},
   "source": [
    " "
   ]
  },
  {
   "cell_type": "markdown",
   "id": "789e8cf7-a2f4-4734-bd32-32c31fdd9b83",
   "metadata": {},
   "source": [
    "Tabela:\n",
    "\n",
    "|  x  |  y  |  z  |\n",
    "|-----|-----|-----|\n",
    "| x1  | y1  | z1  |\n",
    "| x2  | y2  | z2  |\n",
    "| x3  | y3  | z3  |\n",
    "| x4  | y4  | z4  |"
   ]
  },
  {
   "cell_type": "markdown",
   "id": "ba06f8e5-5d32-4e04-be6e-6db341657cd2",
   "metadata": {},
   "source": [
    " "
   ]
  },
  {
   "cell_type": "markdown",
   "id": "8c0ea6f3-b401-4655-8e3d-433b8f76c252",
   "metadata": {},
   "source": [
    "Imagem:\n",
    "\n",
    "O arquivo deve estar no diretório!\n",
    "\n",
    "<img align=\"center\" src=\"Python-logo.png\" width=150>"
   ]
  },
  {
   "cell_type": "markdown",
   "id": "ff2fa96d-9427-4f1c-bd85-35698c4f63f5",
   "metadata": {},
   "source": [
    "E tem muito mais! Várias coisas podem ser feitas nas células markdown, mas o principal é isso."
   ]
  },
  {
   "cell_type": "markdown",
   "id": "de53c82d-401f-496d-98c9-43bb8ef24e33",
   "metadata": {},
   "source": [
    "#### Célula Raw"
   ]
  },
  {
   "cell_type": "raw",
   "id": "afdb477d-e622-4c5f-bd24-142072a2b22d",
   "metadata": {},
   "source": [
    "Na célula Raw, o texto não é formatado, como esta aqui."
   ]
  },
  {
   "cell_type": "markdown",
   "id": "eaaed18c-e3c1-4ae3-bb3e-8b1b2c9013f4",
   "metadata": {},
   "source": [
    "#### Célula Code"
   ]
  },
  {
   "cell_type": "markdown",
   "id": "0ccaabb7-3d31-4b6f-b854-05ebf8a43df5",
   "metadata": {},
   "source": [
    "Agora vamos fazer um exemplo de célula de código. Nessas células escrevemos o programa que desejamos executar. Ele pode produzir um output ou não."
   ]
  },
  {
   "cell_type": "markdown",
   "id": "904d395e-9aa4-4506-9a54-9cf42b1e1d8a",
   "metadata": {},
   "source": [
    "O comando `print()` imprime alguma coisa na tela. Observe que a linha #exemplo não faz nada no código. Quando queremos escrever algo que não vai ser executado, ou seja, um comentário usamos #."
   ]
  },
  {
   "cell_type": "code",
   "execution_count": 3,
   "id": "375c15f7-54b0-45ba-9ae3-e306cf205704",
   "metadata": {},
   "outputs": [
    {
     "name": "stdout",
     "output_type": "stream",
     "text": [
      "Hello world!\n"
     ]
    }
   ],
   "source": [
    "#exemplo\n",
    "print('Hello world!')"
   ]
  },
  {
   "cell_type": "markdown",
   "id": "8f4730cb-2a99-4db2-94ce-e2ef72bd66a1",
   "metadata": {},
   "source": [
    "____"
   ]
  },
  {
   "cell_type": "markdown",
   "id": "40b36ebb-e98c-44da-9acd-d6788fd1fc87",
   "metadata": {},
   "source": [
    "## 2. Introdução à programação em Python"
   ]
  },
  {
   "cell_type": "markdown",
   "id": "240e529f-28ad-4d19-b498-d039814e0068",
   "metadata": {},
   "source": [
    "Agora vamos dar os primeiros passos na programação em Python. Aguarde as instruções e execute os exemplos."
   ]
  },
  {
   "cell_type": "markdown",
   "id": "2696c62b-303b-4523-b4dd-522e133e1855",
   "metadata": {},
   "source": [
    "### Variáveis"
   ]
  },
  {
   "cell_type": "markdown",
   "id": "a03d6b30-85ce-4559-8220-dcd9311e918b",
   "metadata": {},
   "source": [
    "As variáveis, na programação, definem os valores/dados que serão manipulados em um programa."
   ]
  },
  {
   "cell_type": "markdown",
   "id": "a9d4021c-83e1-40f3-82cc-7cc3304f3acb",
   "metadata": {},
   "source": [
    "Os principais tipos de dados são: números (int, float), texto (str), coleções (list, dict), booleanos (bool). Para saber o tipo de um dado, use o comando `type()`."
   ]
  },
  {
   "cell_type": "code",
   "execution_count": 9,
   "id": "72281fd7-4ff4-4caf-a357-29b77ce1feff",
   "metadata": {},
   "outputs": [],
   "source": [
    "a = 1\n",
    "b = 1.3\n",
    "c = '1'\n",
    "d = True\n",
    "e = [1, 2, 3]"
   ]
  },
  {
   "cell_type": "code",
   "execution_count": 16,
   "id": "87b6b651-87fa-46aa-b19d-ca1b573f7131",
   "metadata": {},
   "outputs": [
    {
     "data": {
      "text/plain": [
       "int"
      ]
     },
     "execution_count": 16,
     "metadata": {},
     "output_type": "execute_result"
    }
   ],
   "source": [
    "type(a)"
   ]
  },
  {
   "cell_type": "markdown",
   "id": "a569eb51-35ae-4eeb-b35a-bba82dd01166",
   "metadata": {},
   "source": [
    "> **Agora é sua vez!**\n",
    "> \n",
    "> Descubra os tipos das outras variáveis criadas."
   ]
  },
  {
   "cell_type": "code",
   "execution_count": null,
   "id": "660f2292-c823-4490-9cf5-068858cecab5",
   "metadata": {},
   "outputs": [],
   "source": []
  },
  {
   "cell_type": "markdown",
   "id": "20846dae-63e1-4b48-94ba-f9ac8e819444",
   "metadata": {},
   "source": [
    "### Operações matemáticas básicas"
   ]
  },
  {
   "cell_type": "markdown",
   "id": "8d8bf694-b017-412f-84b6-8a93eeb72954",
   "metadata": {},
   "source": [
    "`+` soma\n",
    "\n",
    "`-` subtração\n",
    "\n",
    "`*` multiplicação\n",
    "\n",
    "`/` divisão\n",
    "\n",
    "`**` potência\n",
    "\n",
    "`%` resto da divisão\n",
    "\n",
    "`=` atribuição"
   ]
  },
  {
   "cell_type": "code",
   "execution_count": 24,
   "id": "017ed706-7abf-41f3-a24c-98e2b9165997",
   "metadata": {},
   "outputs": [],
   "source": [
    "n1 = 4\n",
    "n2 = 2"
   ]
  },
  {
   "cell_type": "code",
   "execution_count": 27,
   "id": "c1d8a6b3-b7b3-46bb-89ab-ef66afa1992b",
   "metadata": {},
   "outputs": [
    {
     "data": {
      "text/plain": [
       "6"
      ]
     },
     "execution_count": 27,
     "metadata": {},
     "output_type": "execute_result"
    }
   ],
   "source": [
    "n1 + n2"
   ]
  },
  {
   "cell_type": "markdown",
   "id": "e4c96598-07d3-4a26-95d9-f586f34cb422",
   "metadata": {},
   "source": [
    "> **Agora é sua vez!**\n",
    "> \n",
    "> Teste as outras operações."
   ]
  },
  {
   "cell_type": "code",
   "execution_count": null,
   "id": "23cf3aa5-60e1-48b1-b8c9-ccad04225d33",
   "metadata": {},
   "outputs": [],
   "source": []
  },
  {
   "cell_type": "markdown",
   "id": "bf519512-a161-48df-b8bb-1b708da6489b",
   "metadata": {},
   "source": [
    "### Strings"
   ]
  },
  {
   "cell_type": "code",
   "execution_count": 30,
   "id": "e79a686f-f8c0-4b5e-9241-0b211a732c14",
   "metadata": {},
   "outputs": [],
   "source": [
    "texto = 'oi!'"
   ]
  },
  {
   "cell_type": "code",
   "execution_count": 31,
   "id": "965ac9b3-73b9-4456-9758-4bc016ee8a64",
   "metadata": {},
   "outputs": [
    {
     "name": "stdout",
     "output_type": "stream",
     "text": [
      "oi!\n"
     ]
    }
   ],
   "source": [
    "print(texto)"
   ]
  },
  {
   "cell_type": "markdown",
   "id": "1241361a-855b-4ba1-8258-6931505f9c72",
   "metadata": {},
   "source": [
    "> **Agora é sua vez!**\n",
    "> \n",
    "> Troque o texto por outra coisa e imprima."
   ]
  },
  {
   "cell_type": "code",
   "execution_count": 32,
   "id": "a334db4f-fd06-4f71-90c2-fa3b422176b3",
   "metadata": {},
   "outputs": [],
   "source": [
    "nome = 'Andressa'"
   ]
  },
  {
   "cell_type": "code",
   "execution_count": 34,
   "id": "bc8833bb-0d30-425f-8112-1571d6a62888",
   "metadata": {},
   "outputs": [
    {
     "name": "stdout",
     "output_type": "stream",
     "text": [
      "Meu nome é Andressa.\n"
     ]
    }
   ],
   "source": [
    "print(f'Meu nome é {nome}.')"
   ]
  },
  {
   "cell_type": "code",
   "execution_count": 35,
   "id": "2c89d475-34dc-4132-b637-0231e424b859",
   "metadata": {},
   "outputs": [
    {
     "name": "stdout",
     "output_type": "stream",
     "text": [
      "A letra inicial do meu nome é A.\n"
     ]
    }
   ],
   "source": [
    "print(f'A letra inicial do meu nome é {nome[0]}.')"
   ]
  },
  {
   "cell_type": "code",
   "execution_count": 36,
   "id": "4b976590-308e-4d0e-8f3d-16809c948949",
   "metadata": {},
   "outputs": [
    {
     "data": {
      "text/plain": [
       "'ANDRESSA'"
      ]
     },
     "execution_count": 36,
     "metadata": {},
     "output_type": "execute_result"
    }
   ],
   "source": [
    "nome.upper()"
   ]
  },
  {
   "cell_type": "code",
   "execution_count": 37,
   "id": "c94143bc-b295-4980-a29d-423fe202cf08",
   "metadata": {},
   "outputs": [
    {
     "data": {
      "text/plain": [
       "'andressa'"
      ]
     },
     "execution_count": 37,
     "metadata": {},
     "output_type": "execute_result"
    }
   ],
   "source": [
    "nome.lower()"
   ]
  },
  {
   "cell_type": "markdown",
   "id": "afee70d5-e0c2-4dcd-a2e8-8ddc39106e0c",
   "metadata": {},
   "source": [
    "> **Agora é sua vez!**\n",
    "> \n",
    "> Teste com o seu nome."
   ]
  },
  {
   "cell_type": "code",
   "execution_count": 42,
   "id": "72f4ec4f-1b27-4c39-8bbe-15e1b8f6f1e6",
   "metadata": {},
   "outputs": [],
   "source": [
    "palavra = 'melancia'"
   ]
  },
  {
   "cell_type": "code",
   "execution_count": 43,
   "id": "970c9d64-c4be-466d-9eaf-2a742d676748",
   "metadata": {},
   "outputs": [
    {
     "data": {
      "text/plain": [
       "'Melancia'"
      ]
     },
     "execution_count": 43,
     "metadata": {},
     "output_type": "execute_result"
    }
   ],
   "source": [
    "palavra.capitalize()"
   ]
  },
  {
   "cell_type": "code",
   "execution_count": 44,
   "id": "2bd608c7-3a87-4d43-8fcb-e72e97bb7bbe",
   "metadata": {},
   "outputs": [
    {
     "data": {
      "text/plain": [
       "['me', 'ancia']"
      ]
     },
     "execution_count": 44,
     "metadata": {},
     "output_type": "execute_result"
    }
   ],
   "source": [
    "palavra.split('l')"
   ]
  },
  {
   "cell_type": "markdown",
   "id": "211f85b1-cc9f-42f7-8cd9-4bfd0e8d6291",
   "metadata": {},
   "source": [
    "Você também pode pedir que o usuário escreva uma palavra, e assim você não estará definindo a variável diretamente na célula."
   ]
  },
  {
   "cell_type": "code",
   "execution_count": 6,
   "id": "3cdd847a-540f-49b7-a437-3a47b53e4c8e",
   "metadata": {},
   "outputs": [
    {
     "name": "stdin",
     "output_type": "stream",
     "text": [
      "Digite uma palavra:  sim\n"
     ]
    }
   ],
   "source": [
    "palavra = str(input('Digite uma palavra: '))"
   ]
  },
  {
   "cell_type": "code",
   "execution_count": 10,
   "id": "9ea97622-3257-4a36-acaa-203391ddab8d",
   "metadata": {},
   "outputs": [
    {
     "name": "stdout",
     "output_type": "stream",
     "text": [
      "Você digitou \"sim\" \n"
     ]
    }
   ],
   "source": [
    "print(f'Você digitou \"{palavra}\". ')"
   ]
  },
  {
   "cell_type": "markdown",
   "id": "0314eb43-2096-41dc-8529-468eb4645a96",
   "metadata": {},
   "source": [
    "### True e False"
   ]
  },
  {
   "cell_type": "markdown",
   "id": "97913bdb-1dd3-4ff9-8b87-d6de81280508",
   "metadata": {},
   "source": [
    "`==` igual\n",
    "\n",
    "`!=` diferente"
   ]
  },
  {
   "cell_type": "code",
   "execution_count": 46,
   "id": "4ea33ccd-5efb-4c7c-83fd-c39d6637c50f",
   "metadata": {},
   "outputs": [],
   "source": [
    "y = 2\n",
    "x = 3"
   ]
  },
  {
   "cell_type": "code",
   "execution_count": 49,
   "id": "30bba725-f058-4d25-9cfe-697e964b4956",
   "metadata": {},
   "outputs": [
    {
     "data": {
      "text/plain": [
       "False"
      ]
     },
     "execution_count": 49,
     "metadata": {},
     "output_type": "execute_result"
    }
   ],
   "source": [
    "y == x"
   ]
  },
  {
   "cell_type": "markdown",
   "id": "d44a7563-e5f6-48ac-a253-2c52e356fe82",
   "metadata": {},
   "source": [
    "> **Agora é sua vez!**\n",
    "> \n",
    "> Troque o == por != na célula acima."
   ]
  },
  {
   "cell_type": "code",
   "execution_count": 50,
   "id": "b6bea424-9ec2-42af-8bbe-f5f6717e06db",
   "metadata": {},
   "outputs": [
    {
     "data": {
      "text/plain": [
       "True"
      ]
     },
     "execution_count": 50,
     "metadata": {},
     "output_type": "execute_result"
    }
   ],
   "source": [
    "y + 1 == x"
   ]
  },
  {
   "cell_type": "markdown",
   "id": "dd5b7c1c-809d-4186-900b-3c92a5212016",
   "metadata": {},
   "source": [
    "### Listas"
   ]
  },
  {
   "cell_type": "code",
   "execution_count": 51,
   "id": "8505146e-3242-4917-aa81-f03252bbf12f",
   "metadata": {},
   "outputs": [],
   "source": [
    "lista = [1, 2, 3, 4, 5]"
   ]
  },
  {
   "cell_type": "code",
   "execution_count": 54,
   "id": "13406e97-f672-47a9-9659-caa1517b2f6c",
   "metadata": {},
   "outputs": [
    {
     "name": "stdout",
     "output_type": "stream",
     "text": [
      "1\n",
      "5\n",
      "[1, 2, 3]\n"
     ]
    }
   ],
   "source": [
    "print(lista[0])\n",
    "print(lista[-1])\n",
    "print(lista[0:3])"
   ]
  },
  {
   "cell_type": "markdown",
   "id": "47a2680f-0396-40d0-871f-3aa9b084822d",
   "metadata": {},
   "source": [
    "Substituir um elemento da lista:"
   ]
  },
  {
   "cell_type": "code",
   "execution_count": 55,
   "id": "87d10a5c-3cf4-4ec3-b8df-2dbf86ae5a59",
   "metadata": {},
   "outputs": [
    {
     "data": {
      "text/plain": [
       "[1, 100, 3, 4, 5]"
      ]
     },
     "execution_count": 55,
     "metadata": {},
     "output_type": "execute_result"
    }
   ],
   "source": [
    "lista[1] = 100\n",
    "lista"
   ]
  },
  {
   "cell_type": "markdown",
   "id": "125d1b6e-c1be-4198-83e7-cef08fdb2303",
   "metadata": {},
   "source": [
    "> **Agora é sua vez!**\n",
    "> \n",
    "> Crie uma lista com 6 elementos e troque o terceiro."
   ]
  },
  {
   "cell_type": "markdown",
   "id": "37ed05d1-6810-49c5-845c-e819cf7a963a",
   "metadata": {},
   "source": [
    "Ordenar lista:"
   ]
  },
  {
   "cell_type": "code",
   "execution_count": 56,
   "id": "47c15961-de7c-4ba4-b219-354d1e9212d5",
   "metadata": {},
   "outputs": [
    {
     "data": {
      "text/plain": [
       "[-1, 3, 5, 7, 10, 22]"
      ]
     },
     "execution_count": 56,
     "metadata": {},
     "output_type": "execute_result"
    }
   ],
   "source": [
    "numeros = [3, 7, 5, 10, 22, -1]\n",
    "sorted(numeros)"
   ]
  },
  {
   "cell_type": "code",
   "execution_count": 60,
   "id": "86dcee6f-c857-4d32-ab08-b508dfb7663f",
   "metadata": {},
   "outputs": [
    {
     "data": {
      "text/plain": [
       "['a', 'b', 'c', 'd', 'x']"
      ]
     },
     "execution_count": 60,
     "metadata": {},
     "output_type": "execute_result"
    }
   ],
   "source": [
    "letras = ['x', 'b', 'd', 'c', 'a']\n",
    "sorted(letras)"
   ]
  },
  {
   "cell_type": "markdown",
   "id": "a3442d0f-03a5-4393-afc8-f68badba1ef0",
   "metadata": {},
   "source": [
    "Manipulando listas:"
   ]
  },
  {
   "cell_type": "code",
   "execution_count": 62,
   "id": "29ebc88b-9327-4cec-a5f1-d7f7417a6652",
   "metadata": {},
   "outputs": [
    {
     "data": {
      "text/plain": [
       "[3, 7, 5, 10, 22, -1, 'x', 'b', 'd', 'c', 'a']"
      ]
     },
     "execution_count": 62,
     "metadata": {},
     "output_type": "execute_result"
    }
   ],
   "source": [
    "mistura = numeros + letras\n",
    "mistura"
   ]
  },
  {
   "cell_type": "code",
   "execution_count": 69,
   "id": "a95cbe93-7d4d-4953-9afa-00471754e81b",
   "metadata": {},
   "outputs": [
    {
     "data": {
      "text/plain": [
       "[4, 5, 6, 4, 5, 6, 4, 5, 6, 4, 5, 6]"
      ]
     },
     "execution_count": 69,
     "metadata": {},
     "output_type": "execute_result"
    }
   ],
   "source": [
    "lista2 = [4, 5, 6]\n",
    "4*lista2"
   ]
  },
  {
   "cell_type": "markdown",
   "id": "d6595dff-3bd2-41ed-b16e-a918e7b26533",
   "metadata": {},
   "source": [
    "Como podem ser feitas operações matemáticas como soma e multiplicação? Vamos ver arrays com `numpy` mais à frente."
   ]
  },
  {
   "cell_type": "markdown",
   "id": "508a30e4-aa7e-452a-bb38-a1e733c8ffb0",
   "metadata": {},
   "source": [
    "### Dicionários"
   ]
  },
  {
   "cell_type": "code",
   "execution_count": 76,
   "id": "12f79032-4d18-4e25-9bd8-5088c7522fbb",
   "metadata": {},
   "outputs": [
    {
     "data": {
      "text/plain": [
       "{'João': 5.0, 'Maria': 9.4, 'Vanessa': 7.8, 'Leo': 6.0}"
      ]
     },
     "execution_count": 76,
     "metadata": {},
     "output_type": "execute_result"
    }
   ],
   "source": [
    "notas = {'João':5.0, \n",
    "        'Maria':9.4,\n",
    "        'Vanessa':7.8,\n",
    "        'Leo':6.0}\n",
    "notas"
   ]
  },
  {
   "cell_type": "code",
   "execution_count": 71,
   "id": "7c873415-2ce2-447a-ab82-5f787009b2c0",
   "metadata": {},
   "outputs": [
    {
     "data": {
      "text/plain": [
       "dict_keys(['João', 'Maria', 'Vanessa', 'Leo'])"
      ]
     },
     "execution_count": 71,
     "metadata": {},
     "output_type": "execute_result"
    }
   ],
   "source": [
    "notas.keys()"
   ]
  },
  {
   "cell_type": "code",
   "execution_count": 72,
   "id": "39e85e0a-3cab-4865-810d-ff6fa498f52e",
   "metadata": {},
   "outputs": [
    {
     "data": {
      "text/plain": [
       "dict_values([5.0, 9.4, 7.8, 6.0])"
      ]
     },
     "execution_count": 72,
     "metadata": {},
     "output_type": "execute_result"
    }
   ],
   "source": [
    "notas.values()"
   ]
  },
  {
   "cell_type": "code",
   "execution_count": 73,
   "id": "65d1f595-c157-4f8d-87f3-f6457902feed",
   "metadata": {},
   "outputs": [
    {
     "data": {
      "text/plain": [
       "6.0"
      ]
     },
     "execution_count": 73,
     "metadata": {},
     "output_type": "execute_result"
    }
   ],
   "source": [
    "notas['Leo']"
   ]
  },
  {
   "cell_type": "code",
   "execution_count": 75,
   "id": "a29d611c-6104-431f-9128-8eb9866eecdf",
   "metadata": {},
   "outputs": [
    {
     "data": {
      "text/plain": [
       "{'João': 5.0, 'Maria': 9.4, 'Vanessa': 7.8, 'Leo': 6.0, 'Pedro': 10.0}"
      ]
     },
     "execution_count": 75,
     "metadata": {},
     "output_type": "execute_result"
    }
   ],
   "source": [
    "notas['Pedro'] = 10.0\n",
    "notas"
   ]
  },
  {
   "cell_type": "markdown",
   "id": "59b2c4e4-ff84-49ff-a124-ef5545267ea0",
   "metadata": {},
   "source": [
    "> **Agora é sua vez!**\n",
    "> \n",
    "> Crie um dicionário que contenha itens de supermercado e seu preço."
   ]
  },
  {
   "cell_type": "markdown",
   "id": "e9f5ef87-1eb1-4d46-941e-ca1343b692dc",
   "metadata": {},
   "source": []
  },
  {
   "cell_type": "markdown",
   "id": "23b16c9a-0b29-49ce-abfb-2ee801e04fe6",
   "metadata": {},
   "source": [
    "### Condições"
   ]
  },
  {
   "cell_type": "markdown",
   "id": "0285425c-65a1-49e6-b939-0ee95b965fca",
   "metadata": {},
   "source": [
    "Na vida, tomamos decisões o tempo todo. Na programação não é diferente. Mas como o programa sabe se tem que executar uma tarefa ou outra? Para isso, temos a estrutura **if-else**. Se uma condição é satisfeita, então um bloco de comandos é executado; senão, outro bloco de comandos roda. "
   ]
  },
  {
   "cell_type": "markdown",
   "id": "089e0963-6699-4899-b923-b7f934f807a0",
   "metadata": {},
   "source": [
    "Vamos fazer um exemplo que verifique se um número é par ou ímpar:"
   ]
  },
  {
   "cell_type": "code",
   "execution_count": 22,
   "id": "fcb283de-d04d-490a-9028-2ecc61f52fa7",
   "metadata": {},
   "outputs": [
    {
     "name": "stdout",
     "output_type": "stream",
     "text": [
      "É ímpar.\n"
     ]
    }
   ],
   "source": [
    "a = 3\n",
    "if a%2 == 0:\n",
    "    print('É par.')\n",
    "else:\n",
    "    print('É ímpar.')"
   ]
  },
  {
   "cell_type": "markdown",
   "id": "342c8ad9-9365-48b1-81fd-15d5d40fd949",
   "metadata": {},
   "source": [
    "> **Agora é sua vez!**\n",
    "> \n",
    "> Acima, altere a variável 'a' para um número ímpar e teste. Abaixo, crie um programa que imprima se uma variável é maior, menor ou igual a 200."
   ]
  },
  {
   "cell_type": "code",
   "execution_count": null,
   "id": "498f0cb7-3963-477a-a07f-67c947893b82",
   "metadata": {},
   "outputs": [],
   "source": []
  },
  {
   "cell_type": "markdown",
   "id": "80cd5c78-98e4-4adb-902e-b2d282a76857",
   "metadata": {},
   "source": [
    "Também temos a estrutura **if-elif-else**:"
   ]
  },
  {
   "cell_type": "code",
   "execution_count": 25,
   "id": "485ec5b8-77b0-48da-b5e6-390307d9c630",
   "metadata": {},
   "outputs": [
    {
     "name": "stdin",
     "output_type": "stream",
     "text": [
      "O semáforo está  vermelho\n"
     ]
    },
    {
     "name": "stdout",
     "output_type": "stream",
     "text": [
      "Pare!\n"
     ]
    }
   ],
   "source": [
    "cor = str(input('O semáforo está '))\n",
    "if cor == 'verde':\n",
    "    print('Continue!')\n",
    "elif cor == 'amarelo':\n",
    "    print('Atenção!')\n",
    "else:\n",
    "    print('Pare!')"
   ]
  },
  {
   "cell_type": "markdown",
   "id": "14c0032d-a6dc-4d29-b3cf-a669a47ec682",
   "metadata": {},
   "source": [
    "### Loops"
   ]
  },
  {
   "cell_type": "markdown",
   "id": "c2dc77aa-3e04-4fb0-b4a1-a14933c2abce",
   "metadata": {},
   "source": [
    "Várias vezes na programação vamos precisar que um código ou parte de dele seja repetido. Para não precisar escrever várias vezes a mesma coisa, podemos usar estruturas de repetição, ou loops.\n",
    "\n",
    "Em Python, temos os comandos **for** e **while**."
   ]
  },
  {
   "cell_type": "markdown",
   "id": "101fb742-1d99-4216-94a9-b33df0174966",
   "metadata": {},
   "source": [
    "Para entender melhor, vamos partir para os exemplos. Repare na indentação."
   ]
  },
  {
   "cell_type": "code",
   "execution_count": 4,
   "id": "a2d954e8-39b1-4671-bec3-a4d931977c3e",
   "metadata": {},
   "outputs": [
    {
     "name": "stdout",
     "output_type": "stream",
     "text": [
      "1\n",
      "2\n",
      "3\n",
      "4\n",
      "5\n",
      "6\n",
      "7\n",
      "8\n",
      "9\n",
      "10\n"
     ]
    }
   ],
   "source": [
    "#imprimir números de 1 a 10\n",
    "for i in range(1, 11, 1):\n",
    "    print(i)"
   ]
  },
  {
   "cell_type": "markdown",
   "id": "57aaa91e-90ba-4cf0-8e4b-d29c9aaab1c3",
   "metadata": {},
   "source": [
    "> **Agora é sua vez!**\n",
    "> \n",
    "> Altere o programa acima, trocando o passo para 2. O que acontece?"
   ]
  },
  {
   "cell_type": "code",
   "execution_count": 12,
   "id": "3b5d9b47-e00e-43a3-a849-3e5c46373028",
   "metadata": {},
   "outputs": [
    {
     "name": "stdin",
     "output_type": "stream",
     "text": [
      "Qual tabuada voce quer saber? Digite um numero de 1 a 10:  2\n"
     ]
    },
    {
     "name": "stdout",
     "output_type": "stream",
     "text": [
      "2 X 0 = 0\n",
      "2 X 1 = 2\n",
      "2 X 2 = 4\n",
      "2 X 3 = 6\n",
      "2 X 4 = 8\n",
      "2 X 5 = 10\n",
      "2 X 6 = 12\n",
      "2 X 7 = 14\n",
      "2 X 8 = 16\n",
      "2 X 9 = 18\n",
      "2 X 10 = 20\n"
     ]
    }
   ],
   "source": [
    "#gerador de tabuada\n",
    "n = int(input('Qual tabuada voce quer saber? Digite um numero de 1 a 10: '))\n",
    "for i in range(0, 11, 1):\n",
    "    resultado = n * i\n",
    "    print(f'{n} X {i} = {resultado}')"
   ]
  },
  {
   "cell_type": "code",
   "execution_count": 20,
   "id": "b9de817e-f88f-42fe-9426-1a5c8f0c0213",
   "metadata": {},
   "outputs": [
    {
     "name": "stdout",
     "output_type": "stream",
     "text": [
      "9.0 - Aprovado\n",
      "3.6 - Reprovado\n",
      "5.9 - Reprovado\n",
      "7.5 - Aprovado\n",
      "10.0 - Aprovado\n"
     ]
    }
   ],
   "source": [
    "#reprovar ou aprovar\n",
    "turma1 = [9.0, 3.6, 5.9, 7.5, 10.0]\n",
    "\n",
    "for nota in turma1:\n",
    "    if nota >= 6.0:\n",
    "        print(f'{nota} - Aprovado')\n",
    "    else:\n",
    "        print(f'{nota} - Reprovado')"
   ]
  },
  {
   "cell_type": "code",
   "execution_count": 17,
   "id": "21ca659f-65f2-478b-b705-f560382e849b",
   "metadata": {},
   "outputs": [
    {
     "name": "stdin",
     "output_type": "stream",
     "text": [
      "Digite o seu nome:  leo\n",
      "Seu nome deve ter mais de 3 caracteres. Digite o seu nome:  pi\n",
      "Seu nome deve ter mais de 3 caracteres. Digite o seu nome:  quito\n"
     ]
    },
    {
     "name": "stdout",
     "output_type": "stream",
     "text": [
      "Ok.\n"
     ]
    }
   ],
   "source": [
    "#nome com mais de 3 caracteres\n",
    "nome = str(input('Digite o seu nome: '))\n",
    "while len(nome) <= 3:\n",
    "    nome = input('Seu nome deve ter mais de 3 caracteres. Digite o seu nome: ')\n",
    "print('Ok.')"
   ]
  },
  {
   "cell_type": "code",
   "execution_count": 18,
   "id": "3e609842-4961-48fc-b677-e795189f9340",
   "metadata": {},
   "outputs": [
    {
     "name": "stdout",
     "output_type": "stream",
     "text": [
      "Confirmação de senha\n"
     ]
    },
    {
     "name": "stdin",
     "output_type": "stream",
     "text": [
      "Digite a senha:  lia\n",
      "Confirme a senha:  lea\n"
     ]
    },
    {
     "name": "stdout",
     "output_type": "stream",
     "text": [
      "Senha errada, digite novamente.\n"
     ]
    },
    {
     "name": "stdin",
     "output_type": "stream",
     "text": [
      "Digite a senha:  lia\n",
      "Confirme a senha:  lia\n"
     ]
    },
    {
     "name": "stdout",
     "output_type": "stream",
     "text": [
      "Senha confirmada.\n"
     ]
    }
   ],
   "source": [
    "#confirmação de senha\n",
    "print('Confirmação de senha')\n",
    "senha1 = str(input('Digite a senha: '))\n",
    "senha2 = str(input('Confirme a senha: '))\n",
    "while senha1 != senha2:\n",
    "    print('Senha errada, digite novamente.')\n",
    "    senha1 = input('Digite a senha: ')\n",
    "    senha2 = input('Confirme a senha: ')\n",
    "print('Senha confirmada.')"
   ]
  },
  {
   "cell_type": "markdown",
   "id": "7748f3de-8bc7-4877-a953-8ba927458edc",
   "metadata": {},
   "source": [
    "> **Agora é sua vez!**\n",
    "> \n",
    "> Faça um programa que leia a idade de um usuário e verifique se ela é possível: não existe uma pessoa com idade menor que zero ou maior do que, digamos, 120 anos."
   ]
  },
  {
   "cell_type": "code",
   "execution_count": null,
   "id": "37ca5729-d64a-44b7-a004-a9e43ec5ad00",
   "metadata": {},
   "outputs": [],
   "source": []
  },
  {
   "cell_type": "markdown",
   "id": "fee677ff-352d-4d5a-beca-7143e94da993",
   "metadata": {},
   "source": [
    "___________"
   ]
  },
  {
   "cell_type": "markdown",
   "id": "2d1f69f6-f9d0-432a-9174-ca068551dfb0",
   "metadata": {},
   "source": [
    "## 3. NumPy"
   ]
  },
  {
   "cell_type": "markdown",
   "id": "67cdf6f7-f423-4c8f-b48f-9adfe4fb336e",
   "metadata": {},
   "source": [
    "Numerical Python ou NumPy é uma biblioteca essencial para cálculos e tarefas matemáticas.\n",
    "\n",
    "Para a instalação, basta digitar no terminal:\n",
    "\n",
    "`pip install numpy`\n",
    "\n",
    "Vejamos alguns exemplos a seguir. Primeiramente, para "
   ]
  },
  {
   "cell_type": "code",
   "execution_count": 1,
   "id": "a598f822-6413-414c-9e81-82d3e219e856",
   "metadata": {},
   "outputs": [],
   "source": [
    "import numpy as np"
   ]
  },
  {
   "cell_type": "markdown",
   "id": "d0651c62-1fbd-48b5-9019-b46cb114f862",
   "metadata": {},
   "source": [
    "### Operações úteis"
   ]
  },
  {
   "cell_type": "code",
   "execution_count": null,
   "id": "8fc3d829-bda3-482d-a9dd-786dd0b61adc",
   "metadata": {},
   "outputs": [],
   "source": []
  },
  {
   "cell_type": "markdown",
   "id": "310e3068-3cd7-4578-99a4-39740256a3b9",
   "metadata": {},
   "source": [
    "### Arrays"
   ]
  },
  {
   "cell_type": "code",
   "execution_count": null,
   "id": "36f94eb0-44dc-4553-ab84-9055bd2890a5",
   "metadata": {},
   "outputs": [],
   "source": []
  },
  {
   "cell_type": "markdown",
   "id": "397121e0-aa23-49c2-ace5-f09123f4850a",
   "metadata": {},
   "source": [
    "### Leitura e escrita de arquivos"
   ]
  },
  {
   "cell_type": "code",
   "execution_count": null,
   "id": "2b3f7fc1-f568-4c98-a728-7428e8911c0b",
   "metadata": {},
   "outputs": [],
   "source": []
  },
  {
   "cell_type": "code",
   "execution_count": null,
   "id": "da577807-9fc0-4669-bcc1-b71be5fac291",
   "metadata": {},
   "outputs": [],
   "source": []
  },
  {
   "cell_type": "code",
   "execution_count": null,
   "id": "1baf29ea-dd2a-4fd3-94ae-1b687dfacb20",
   "metadata": {},
   "outputs": [],
   "source": []
  },
  {
   "cell_type": "markdown",
   "id": "55b8067a-8451-41c4-b1db-d187ce3381c3",
   "metadata": {},
   "source": [
    "Parte 2\n",
    "\n",
    "scipy\n",
    "matplotlib"
   ]
  }
 ],
 "metadata": {
  "kernelspec": {
   "display_name": "Python 3 (ipykernel)",
   "language": "python",
   "name": "python3"
  },
  "language_info": {
   "codemirror_mode": {
    "name": "ipython",
    "version": 3
   },
   "file_extension": ".py",
   "mimetype": "text/x-python",
   "name": "python",
   "nbconvert_exporter": "python",
   "pygments_lexer": "ipython3",
   "version": "3.11.4"
  }
 },
 "nbformat": 4,
 "nbformat_minor": 5
}
